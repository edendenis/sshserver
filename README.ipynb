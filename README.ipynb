{
 "cells": [
  {
   "cell_type": "markdown",
   "metadata": {},
   "source": [
    "# Como configurar/instalar o `sshserver` no `Linux Ubuntu`\n",
    "\n",
    "## Resumo\n",
    "\n",
    "Neste documento estão contidos os principais comandos e configurações para configurar/instalar o `sshserver` no `Linux Ubuntu`.\n",
    "\n",
    "## _Abstract_\n",
    "\n",
    "_In this document are contained the main commands and settings to set up/install the `sshserver` on `Linux Ubuntu`._"
   ]
  },
  {
   "cell_type": "markdown",
   "metadata": {},
   "source": [
    "## Descrição [2]\n",
    "\n",
    "### `sshserver`\n",
    "\n",
    "O `sshserver` no `Linux Ubuntu` é um servidor SSH (Secure Shell) que permite a conexão segura com o seu sistema Linux através do protocolo SSH. O SSH é um protocolo de rede que permite a comunicação segura e criptografada entre um cliente e um servidor. Ele é amplamente utilizado para acessar remotamente servidores e dispositivos Linux de forma segura, permitindo a transferência de dados e a execução de comandos de forma segura pela rede. O `sshserver` no `Linux Ubuntu` é responsável por aceitar conexões SSH de clientes remotos e autenticar os usuários, garantindo que apenas pessoas autorizadas tenham acesso ao sistema. Ele também gerencia a criptografia das comunicações para proteger os dados transmitidos."
   ]
  },
  {
   "cell_type": "markdown",
   "metadata": {},
   "source": [
    "## 1. Como configurar/instalar o `sshserver` no `Linux Ubuntu` [1][4]\n",
    "\n",
    "Para instalar e configurar um servidor `SSH` no `Linux Ubuntu`, você pode seguir estas etapas:\n",
    "\n",
    "1. Abra o `Terminal Emulator`. Você pode fazer isso pressionando: `Ctrl + Alt + T`\n"
   ]
  },
  {
   "cell_type": "markdown",
   "metadata": {
    "vscode": {
     "languageId": "plaintext"
    }
   },
   "source": [
    "2. Certifique-se de que seu sistema esteja limpo e atualizado.\n",
    "\n",
    "    2.1 Limpar o `cache` do gerenciador de pacotes `apt`. Especificamente, ele remove todos os arquivos de pacotes (`.deb`) baixados pelo `apt` e armazenados em `/var/cache/apt/archives/`. Digite o seguinte comando: `sudo apt clean` \n",
    "    \n",
    "    2.2 Remover pacotes `.deb` antigos ou duplicados do cache local. É útil para liberar espaço, pois remove apenas os pacotes que não podem mais ser baixados (ou seja, versões antigas de pacotes que foram atualizados). Digite o seguinte comando: `sudo apt autoclean`\n",
    "\n",
    "    2.3 Remover pacotes que foram automaticamente instalados para satisfazer as dependências de outros pacotes e que não são mais necessários. Digite o seguinte comando: `sudo apt autoremove -y`\n",
    "\n",
    "    2.4 Buscar as atualizações disponíveis para os pacotes que estão instalados em seu sistema. Digite o seguinte comando e pressione `Enter`: `sudo apt update`\n",
    "\n",
    "    2.5 **Corrigir pacotes quebrados**: Isso atualizará a lista de pacotes disponíveis e tentará corrigir pacotes quebrados ou com dependências ausentes: `sudo apt --fix-broken install`\n",
    "\n",
    "    2.6 Limpar o `cache` do gerenciador de pacotes `apt`. Especificamente, ele remove todos os arquivos de pacotes (`.deb`) baixados pelo `apt` e armazenados em `/var/cache/apt/archives/`. Digite o seguinte comando: `sudo apt clean` \n",
    "    \n",
    "    2.7 Para ver a lista de pacotes a serem atualizados, digite o seguinte comando e pressione `Enter`:  `sudo apt list --upgradable`\n",
    "\n",
    "    2.8 Realmente atualizar os pacotes instalados para as suas versões mais recentes, com base na última vez que você executou `sudo apt update`. Digite o seguinte comando e pressione `Enter`: `sudo apt full-upgrade -y`\n",
    "    "
   ]
  },
  {
   "cell_type": "markdown",
   "metadata": {},
   "source": [
    "Para começar a usar o `SSH` e poder monitorar as tentativas de _login_, você precisa primeiro iniciar o serviço e, se desejar, habilitá-lo para que ele inicie automaticamente em futuras inicializações do sistema. Aqui estão os comandos que você pode usar: [3]\n",
    "\n",
    "1. **Instale o `openssh-server`**: Agora, instale o pacote `openssh-server`, que é o servidor SSH para o `Linux Ubuntu`: `sudo apt install openssh-server -y`\n",
    "\n",
    "    Isso instalará o servidor `SSH` e todas as dependências necessárias.\n",
    "\n",
    "\n",
    "2. **Verificar se o `SSH` está ativo:** Mesmo que você tenha o `sshserver`, ele pode não estar ativo. Verifique o _status_ usando: `sudo systemctl status ssh`\n",
    "\n",
    "    O _status_ do serviço `SSH` (`ssh.service`) no seu sistema pode mostrar que está `\"inactive (dead)\"` e `\"disabled\"`, o que significa que o serviço não está atualmente em execução e também não está configurado para iniciar automaticamente na inicialização do sistema.\n",
    "\n",
    "3. **Iniciar o serviço `SSH`:** Para iniciar o serviço `SSH` agora, execute: `sudo systemctl start ssh`\n",
    "\n",
    "4. **Habilitar o serviço `SSH` na inicialização:** Se você quiser que o `SSH` inicie automaticamente em cada reinicialização, use: `sudo systemctl enable ssh`\n",
    "\n",
    "5. **Verificar o _status_ novamente:** Após iniciar o serviço, verifique o status novamente para confirmar que está ativo: `sudo systemctl status ssh`\n",
    "\n",
    "6. **Monitorar tentativas de _login_:** Com o `SSH` ativo, as tentativas de _login_ serão registradas. Você pode monitorá-las através do `journalctl`. Digite o seguinte comando: `sudo journalctl -u ssh`\n",
    "\n",
    "    Para tentativas de _login_ falhas, use: `sudo journalctl -u ssh | grep 'Failed'`\n",
    "\n",
    "Lembre-se de que o `SSH` é uma ferramenta poderosa, mas também um alvo comum para tentativas de acesso não autorizado. Certifique-se de seguir as práticas recomendadas de segurança, como usar autenticação baseada em chave, alterar a porta padrão do `SSH` e considerar o uso de ferramentas como o `Fail2Ban` para proteção adicional."
   ]
  },
  {
   "cell_type": "markdown",
   "metadata": {},
   "source": [
    "O `preset: disabled` na saída do comando `systemctl status` refere-se à configuração padrão (`preset`) do serviço no `systemd`, que é o sistema de `init` usado pelo seu `Linux Ubuntu` para gerenciar serviços de sistema.\n",
    "\n",
    "Vamos entender o que isso significa:\n",
    "\n",
    "- **Loaded:** Mostra o caminho do arquivo da unidade de serviço e o seu estado atual de ativação (`enabled` ou `disabled`). No seu caso, `enabled` significa que o serviço SSH foi explicitamente habilitado para iniciar na inicialização do sistema.\n",
    "\n",
    "- **Preset:** Refere-se à configuração padrão para o serviço, conforme definido pelos presets do `systemd`. No seu caso, `preset: disabled` significa que a configuração padrão para o SSH no seu sistema é não iniciar automaticamente na inicialização. No entanto, como o serviço está explicitamente `enabled`, ele irá iniciar na inicialização, independentemente do seu preset.\n",
    "\n",
    "Basicamente, o `preset` é uma configuração de nível de sistema que define se serviços devem ser habilitados ou desabilitados por padrão. Porém, essa configuração pode ser sobrescrita por ações explícitas do administrador do sistema, como quando você usa `systemctl enable` para ativar um serviço.\n",
    "\n",
    "Então, mesmo que o `preset` seja `disabled`, o seu serviço SSH está ativo (`active (running)`) e habilitado `(enabled)`, portanto, iniciará automaticamente quando você reiniciar seu sistema."
   ]
  },
  {
   "cell_type": "markdown",
   "metadata": {
    "vscode": {
     "languageId": "plaintext"
    }
   },
   "source": [
    "## 2. Código completo para configurar/instalar/usar\n",
    "\n",
    "Para configurar/instalar/usar o `sshserver` no `Linux Ubuntu` sem precisar digitar linha por linha, você pode seguir estas etapas:\n",
    "\n",
    "1. Abra o `Terminal Emulator`. Você pode fazer isso pressionando: `Ctrl + Alt + T`\n",
    "\n",
    "2. Digite o seguinte comando e pressione `Enter`:\n",
    "\n",
    "    ```\n",
    "    sudo apt clean\n",
    "    sudo apt autoclean\n",
    "    sudo apt autoremove -y\n",
    "    sudo apt update\n",
    "    sudo apt --fix-broken install\n",
    "    sudo apt clean\n",
    "    sudo apt list --upgradable\n",
    "    sudo apt full-upgrade -y\n",
    "    sudo systemctl status ssh\n",
    "    sudo systemctl start ssh\n",
    "    sudo systemctl enable ssh\n",
    "    sudo systemctl status ssh\n",
    "    ```"
   ]
  },
  {
   "cell_type": "markdown",
   "metadata": {
    "vscode": {
     "languageId": "plaintext"
    }
   },
   "source": [
    "## Referências\n",
    "\n",
    "[1] OPENAI. ***Servidor ssh no ubuntu.*** Disponível em: <https://chat.openai.com/c/0516a273-54dc-456c-9a4b-d5fa89bcb965> (texto adaptado). ChatGPT. Acessado em: 16/11/2023 15:56.\n",
    "\n",
    "[2] OPENAI. ***Vs code: editor popular.*** Disponível em: <https://chat.openai.com/c/b640a25d-f8e3-4922-8a3b-ed74a2657e42> (texto adaptado). ChatGPT. Acessado em: 14/12/2023 08:51.\n",
    "\n",
    "[3] OPENAI. ***Como eu consulto, pelo terminal, se alguém tentou acessar meu computador no linux?.*** Disponível em: <https://chat.openai.com/c/720d09db-238a-40cc-a97b-c41f71aa6dbf> (texto adaptado). ChatGPT. Acessado em: 14/12/2023 20:29.\n",
    "\n",
    "[4] OPENAI. ***Comandos de manutenção do ubuntu.*** Disponível em: <https://chat.openai.com/c/4a8cfaa2-30d6-474d-821f-7047a6a39830> (texto adaptado). ChatGPT. Acessado em: 15/12/2023 08:25.\n"
   ]
  }
 ],
 "metadata": {
  "kernelspec": {
   "display_name": "Python 3",
   "language": "python",
   "name": "python3"
  },
  "language_info": {
   "codemirror_mode": {
    "name": "ipython",
    "version": 3
   },
   "file_extension": ".py",
   "mimetype": "text/x-python",
   "name": "python",
   "nbconvert_exporter": "python",
   "pygments_lexer": "ipython3",
   "version": "3.8.10"
  },
  "orig_nbformat": 4
 },
 "nbformat": 4,
 "nbformat_minor": 2
}
